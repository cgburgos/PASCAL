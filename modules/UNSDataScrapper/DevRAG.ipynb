{
 "cells": [
  {
   "cell_type": "code",
   "execution_count": 6,
   "metadata": {},
   "outputs": [
    {
     "name": "stdout",
     "output_type": "stream",
     "text": [
      "{'Name': '18 Septemberplein', 'Year': '2014-2020', 'Code': '2014065', 'Typology': 'Retail, Experience Design, Shopping, Refurbishment', 'Status': 'Under Construction, Completed', 'Keywords': ['An experience of light', 'Glass Boxes'], 'Concepts': ['An experience of light\\nReflectivity and sheen are added to the facade through the ambitious construction of four large glass structures. At 5.5 meters wide, 7 meters high and weighing 3000kg each, these illuminated windows appear to float on the surface of the monumental facade. This effect was achieved through a close collaboration between ABT, Si-X and UNStudio, which resulted in the creation of interlocking and glued connections that form an ‘invisible’ support and mounting system.\\nThis type and scale of glass facade construction has never before been realised in the Netherlands. In order to make the glued construction possible at such a large scale, the team undertook one a half years of extensive research - and of trial and error - before finally finding a solution that could provide the level of craftsmanship and engineering precision required.', 'Glass Boxes\\nAngled at 10 degrees to maximise visual connections at street level, the glass structures are illuminated by LED lighting – designed by the Dutch artist Arnout Meijer - which is reflected and diffused by a thin film on the inside of the glass. Optical effects created by this film form patterns of light, which appear to alter as people move across the square. As such, the original design motif of protruding glass windows is used to emphasise the heritage of the C&A Store, whilst strongly identifying it with The City of Light.'], 'External Narrative': 'Designed by Jan van der Laan and opened to the public with great fanfare in 1952, the C&A building was long held in high regard. However numerous alterations were made during its lifespan and the building is no longer considered dominant today. The modern addition of large, eye-catching entrances to underground bicycle parking facilities have also obstructed views to the building, with the result that it can no longer adequately express its identity, nor display a clear and recognisable storefront.', 'Internal Narrative': 'Designed by Jan van der Laan and opened to the public with great fanfare in 1952, the C&amp;A building was long held in high regard. However numerous alterations were made during its lifespan and the building is no longer considered dominant today. The modern addition of large, eye-catching entrances to underground bicycle parking facilities have also obstructed views to the building, with the result that it can no longer adequately express its identity, nor display a clear and recognisable storefront. For this central refurbishment project, UNStudio therefore imagined a rebranding and a modernisation of the precinct. A cultural historical analysis of the building was carried out and design interventions were proposed based on the building’s historic values and the rhythm and ideas of the original architect. The philosophy of reducing material use to create lightweight structures formed the starting point for investigating the use of structural glass in the refurbishment. UNStudio’s interventions include the repositioning of an entire floor in order to create better floor to ceiling heights and the return to a transparent glass plinth, as originally designed by Van der Laan, During the building’s lifetime, an extension was added to the roof. In UNStudio’s refurbishment, the roof is returned to the strong modernist aesthetic of the original design, while large illuminating glass motifs are installed on the facade, to celebrate Eindhoven’s design heritage, alongside its contemporary reputation as a centre of tech innovation. These large glass additions take the form of a series of light-filled installations, which celebrate and complement the existing extruding windows on the north facade, whilst also serving to draw the gaze of passers-by towards the building.', 'Site Area': None, 'Project Areas': '10,744 m 2', 'Project Volume': '51,227 m3', 'Construction Cost': None, 'Sustainability Certification': None, 'Role': 'Design to Realisation', 'UNStudio Team': ['Ben van Berkel', 'Gerard Loozekoot', 'Filippo Lodi', 'Jacques van Wijk', 'Alexander Kalachev Hans Kooij', 'Atira Ariffin', 'Emma Whitehead', 'Erwin Horstmanshof', 'Gys le Roux', 'Nanang Santoso', 'Pietro Scarpa', 'Harlen Miller'], 'External Team': ['Advisors\\nProject management: bbn adviseurs, Houten\\nStructure: SWINN, Gouda\\nInstallations: W4Y adviseurs, Harderwijk\\nArchitecture: Van Manen, Noordwijk\\nGlass structures: ABT, Delft\\nLight design glassboxes: Arnout Meijer Studio, Amsterdam', 'Contractors, suppliers\\nGeneral contractor: Stam + De Koning Bouw, Eindhoven\\nGlassbox contractor: Si-X, Benthuizen (Wout Hoogendoorn, Andre Molenaar, Martijn Leeyen)\\nGlassbox glass supplier; Thiele Glas, Wermsdorf (D)\\nGlass crown and aluminium panels: Sorba Projects bv, Winterswijk'], 'Project Address': '18 Septemberplein, Eindhoven, the Netherlands', 'City': 'Eindhoven', 'Country': 'the Netherlands', 'UNS Contact': 'Jacques van Wijk', 'Website Link': 'https://www.unstudio.com/en/page/12329/18-septemberplein', 'OpenAssets Link': 'https://unstudio.openasset.com/page/project/3'}\n"
     ]
    }
   ],
   "source": [
    "import json\n",
    "\n",
    "with open('test.json') as f:\n",
    "    data = json.load(f)\n",
    "    "
   ]
  },
  {
   "cell_type": "code",
   "execution_count": 14,
   "metadata": {},
   "outputs": [
    {
     "name": "stdout",
     "output_type": "stream",
     "text": [
      "Answer: 'Infrastructure, Transportation', score: 0.2993, start: 85, end: 115\n"
     ]
    }
   ],
   "source": [
    "from transformers import pipeline\n",
    "question_answerer = pipeline(\"question-answering\", model='distilbert-base-cased-distilled-squad')\n",
    "\n",
    "context = r\"\"\"\n",
    "Name: Arnhem Central Park and Rijn Towers,\n",
    "Year: 2000-2005,\n",
    "Code: 200025,\n",
    "Typology: Infrastructure, Transportation, Offices,\n",
    "Status: Completed,\n",
    "Keywords: null,\n",
    "Concepts: null,\n",
    "External Narrative: null,\n",
    "Internal Narrative: The two office towers are components of a large urban plan development for Arnhem Central. The integration of public and private areas were a primary objective within the design. Visibly recognizable on the horizon they denote the city's transportation hub as well as assimilating some of the public functions of the transfer hall at grade level. \\n\\nThe tower facing North is open and transparent, while the facade towards the south is more closed, due to sun exposure. The ceiling of the bus deck below the towers continues in the northern facade of the Park tower and the two distinct volumes create a void between themselves allowing for the visual connections between North and South not to be completely severed.,\n",
    "Site Area: null,\n",
    "Project Areas: 23,000,\n",
    "Project Volume: null,\n",
    "Construction Cost: 23500700,\n",
    "Sustainability Certification: null,\n",
    "Role: Design to Realisation, Architecture,\n",
    "UNStudio Team: Ben van Berkel,Gerard Loozekoot,Henri Snel,Olaf Gipser,Rene Wysk,Ton van den Berg,Jacco van Wengerden,Harm Wassink\n",
    "External Team: See Arnhem Central Station Masterplan,\n",
    "Project Address: Nieuwe Stationsstraat 20, Nieuwe stationsstraat 20, 6811 KS Arnhem,\n",
    "City: Arnhem,\n",
    "Country: The Netherlands, Netherlands,\n",
    "UNS Contact: Gerard Loozekoot,\n",
    "Website Link: null,\n",
    "OpenAssets Link: https://unstudio.openasset.com/page/project/13\n",
    "\"\"\"\n",
    "result = question_answerer(question=\"What Typology it is?\",     context=context)\n",
    "print(f\"Answer: '{result['answer']}', score: {round(result['score'], 4)}, start: {result['start']}, end: {result['end']}\")\n"
   ]
  }
 ],
 "metadata": {
  "kernelspec": {
   "display_name": "venv",
   "language": "python",
   "name": "python3"
  },
  "language_info": {
   "codemirror_mode": {
    "name": "ipython",
    "version": 3
   },
   "file_extension": ".py",
   "mimetype": "text/x-python",
   "name": "python",
   "nbconvert_exporter": "python",
   "pygments_lexer": "ipython3",
   "version": "3.10.1"
  },
  "orig_nbformat": 4
 },
 "nbformat": 4,
 "nbformat_minor": 2
}
